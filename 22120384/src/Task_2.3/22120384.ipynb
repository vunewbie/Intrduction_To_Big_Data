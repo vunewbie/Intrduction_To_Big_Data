{
 "cells": [
  {
   "cell_type": "markdown",
   "id": "d5f981cd",
   "metadata": {},
   "source": [
    "#### __Các bước thực hiện bài tập 2.3__ \n",
    "- $\\text{Khởi tạo SparkSession}$\n",
    "- $\\text{Đọc dữ liệu và gán shapeid}$\n",
    "- $\\text{Thu thập dữ liệu về Driver và chuyển sang Polygon}$\n",
    "- $\\text{Tìm các cặp hình có giao nhau thực sự}$\n",
    "- $\\text{Tạo DataFrame kết quả và sắp xếp}$\n",
    "- $\\text{Lưu kết quả về file output.csv}$"
   ]
  },
  {
   "cell_type": "markdown",
   "id": "8847228f",
   "metadata": {},
   "source": [
    "#### __Các thư viện sử dụng__"
   ]
  },
  {
   "cell_type": "code",
   "execution_count": null,
   "id": "5722fd8a",
   "metadata": {},
   "outputs": [],
   "source": [
    "from pyspark.sql import SparkSession\n",
    "from pyspark.sql.functions import monotonically_increasing_id\n",
    "from shapely.geometry import Polygon"
   ]
  },
  {
   "cell_type": "markdown",
   "id": "bd642caf",
   "metadata": {},
   "source": [
    "##### $\\text{Khởi tạo SparkSession}$ "
   ]
  },
  {
   "cell_type": "code",
   "execution_count": 2,
   "id": "bd25a71b",
   "metadata": {},
   "outputs": [],
   "source": [
    "spark = SparkSession.builder \\\n",
    "    .appName(\"Shape Overlap Detection\") \\\n",
    "    .getOrCreate()"
   ]
  },
  {
   "cell_type": "markdown",
   "id": "7cf49af7",
   "metadata": {},
   "source": [
    "##### $\\text{Đọc dữ liệu và gán shapeid}$"
   ]
  },
  {
   "cell_type": "code",
   "execution_count": 3,
   "id": "2cd4bc49",
   "metadata": {},
   "outputs": [],
   "source": [
    "# Đọc dữ liệu từ file parquet\n",
    "input_path = \"shapes.parquet\"\n",
    "raw_df = spark.read.parquet(input_path)\n",
    "\n",
    "# Gán shape_id nếu bị NULL\n",
    "df = raw_df.withColumn(\"shape_id\", monotonically_increasing_id())"
   ]
  },
  {
   "cell_type": "markdown",
   "id": "c0a28512",
   "metadata": {},
   "source": [
    "##### $\\text{Thu thập dữ liệu về Driver và chuyển sang Polygon}$"
   ]
  },
  {
   "cell_type": "code",
   "execution_count": 4,
   "id": "edcbfbc7",
   "metadata": {},
   "outputs": [],
   "source": [
    "# Thu thập dữ liệu về driver\n",
    "shape_data = df.select(\"shape_id\", \"vertices\").collect()\n",
    "\n",
    "# Chuyển đổi vertices thành Polygon\n",
    "polygon_list = []\n",
    "for row in shape_data:\n",
    "    shape_id = row[\"shape_id\"]\n",
    "    vertices = [(x, y) for x, y in row[\"vertices\"]]\n",
    "    polygon = Polygon(vertices)\n",
    "    polygon_list.append((shape_id, polygon))"
   ]
  },
  {
   "cell_type": "markdown",
   "id": "b674732b",
   "metadata": {},
   "source": [
    "##### $\\text{Tìm các cặp hình có giao nhau thực sự}$"
   ]
  },
  {
   "cell_type": "code",
   "execution_count": 5,
   "id": "f90ee577",
   "metadata": {},
   "outputs": [],
   "source": [
    "# Tìm các cặp polygon giao nhau\n",
    "overlap_pairs = []\n",
    "n_polygons = len(polygon_list)\n",
    "\n",
    "for i in range(n_polygons):\n",
    "    id1, poly1 = polygon_list[i]\n",
    "\n",
    "    for j in range(i + 1, n_polygons):\n",
    "        id2, poly2 = polygon_list[j]\n",
    "        intersection = poly1.intersection(poly2)\n",
    "        if  intersection.area > 0:\n",
    "            overlap_pairs.append((int(id1), int(id2)))"
   ]
  },
  {
   "cell_type": "markdown",
   "id": "7e551fb9",
   "metadata": {},
   "source": [
    "##### $\\text{Tạo DataFrame kết quả và sắp xếp}$"
   ]
  },
  {
   "cell_type": "code",
   "execution_count": 6,
   "id": "7a3b0b98",
   "metadata": {},
   "outputs": [
    {
     "name": "stdout",
     "output_type": "stream",
     "text": [
      "+-------+-------+\n",
      "|shape_1|shape_2|\n",
      "+-------+-------+\n",
      "|0      |41     |\n",
      "|0      |143    |\n",
      "|0      |198    |\n",
      "|0      |430    |\n",
      "|0      |473    |\n",
      "|0      |490    |\n",
      "|0      |496    |\n",
      "|0      |605    |\n",
      "|0      |637    |\n",
      "|0      |729    |\n",
      "|0      |818    |\n",
      "|1      |118    |\n",
      "|1      |160    |\n",
      "|1      |186    |\n",
      "|1      |220    |\n",
      "|1      |247    |\n",
      "|1      |256    |\n",
      "|1      |377    |\n",
      "|1      |444    |\n",
      "|1      |809    |\n",
      "+-------+-------+\n",
      "only showing top 20 rows\n",
      "\n"
     ]
    }
   ],
   "source": [
    "# Tạo Spark DataFrame từ kết quả\n",
    "columns = [\"shape_1\", \"shape_2\"]\n",
    "result_df = spark.createDataFrame(overlap_pairs, columns)\n",
    "\n",
    "# Sắp xếp kết quả\n",
    "result_df = result_df.orderBy(\"shape_1\", \"shape_2\")\n",
    "# In ra kết quả\n",
    "result_df.show(truncate=False)"
   ]
  },
  {
   "cell_type": "code",
   "execution_count": 7,
   "id": "67d0a63c",
   "metadata": {},
   "outputs": [
    {
     "name": "stdout",
     "output_type": "stream",
     "text": [
      "Số dòng của dataframe: 6562\n"
     ]
    }
   ],
   "source": [
    "#in số dòng của dataframe\n",
    "print(\"Số dòng của dataframe:\", result_df.count())"
   ]
  },
  {
   "cell_type": "markdown",
   "id": "2777f724",
   "metadata": {},
   "source": [
    "##### $\\text{Lưu kết quả về file output.csv}$"
   ]
  },
  {
   "cell_type": "code",
   "execution_count": 8,
   "id": "ada9ee73",
   "metadata": {},
   "outputs": [],
   "source": [
    "# Sao chép dữ liệu từ Spark DataFrame\n",
    "rows = result_df.collect()\n",
    "\n",
    "columns = [\"shape_1\", \"shape_2\"]\n",
    "output_path = \"./output.csv\"\n",
    "\n",
    "with open(output_path, \"w\") as file:\n",
    "    # Ghi dòng tiêu đề\n",
    "    file.write(\",\".join(columns) + \"\\n\")\n",
    "\n",
    "    # Ghi từng dòng dữ liệu\n",
    "    for row in rows:\n",
    "        values = [str(row[col]) for col in columns]\n",
    "        file.write(\",\".join(values) + \"\\n\")\n"
   ]
  }
 ],
 "metadata": {
  "kernelspec": {
   "display_name": "Python 3",
   "language": "python",
   "name": "python3"
  },
  "language_info": {
   "codemirror_mode": {
    "name": "ipython",
    "version": 3
   },
   "file_extension": ".py",
   "mimetype": "text/x-python",
   "name": "python",
   "nbconvert_exporter": "python",
   "pygments_lexer": "ipython3",
   "version": "3.10.11"
  }
 },
 "nbformat": 4,
 "nbformat_minor": 5
}
